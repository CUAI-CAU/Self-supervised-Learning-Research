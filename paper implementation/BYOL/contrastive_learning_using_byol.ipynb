{
  "nbformat": 4,
  "nbformat_minor": 5,
  "metadata": {
    "kernelspec": {
      "display_name": "Python 3",
      "language": "python",
      "name": "python3"
    },
    "language_info": {
      "codemirror_mode": {
        "name": "ipython",
        "version": 3
      },
      "file_extension": ".py",
      "mimetype": "text/x-python",
      "name": "python",
      "nbconvert_exporter": "python",
      "pygments_lexer": "ipython3",
      "version": "3.7.9"
    },
    "papermill": {
      "default_parameters": {},
      "duration": 20989.105174,
      "end_time": "2021-08-28T23:16:59.444565",
      "environment_variables": {},
      "exception": null,
      "input_path": "__notebook__.ipynb",
      "output_path": "__notebook__.ipynb",
      "parameters": {},
      "start_time": "2021-08-28T17:27:10.339391",
      "version": "2.3.2"
    },
    "widgets": {
      "application/vnd.jupyter.widget-state+json": {}
    },
    "colab": {
      "name": "contrastive-learning-using-byol.ipynb",
      "provenance": []
    }
  },
  "cells": [
    {
      "cell_type": "code",
      "metadata": {
        "execution": {
          "iopub.execute_input": "2021-08-28T17:27:17.226000Z",
          "iopub.status.busy": "2021-08-28T17:27:17.225345Z",
          "iopub.status.idle": "2021-08-28T17:27:19.344412Z",
          "shell.execute_reply": "2021-08-28T17:27:19.343386Z"
        },
        "papermill": {
          "duration": 2.139105,
          "end_time": "2021-08-28T17:27:19.344553",
          "exception": false,
          "start_time": "2021-08-28T17:27:17.205448",
          "status": "completed"
        },
        "tags": [],
        "id": "suburban-shaft"
      },
      "source": [
        "import os\n",
        "import sys\n",
        "import numpy as np\n",
        "from math import pi, cos \n",
        "\n",
        "\n",
        "import torch\n",
        "import torchvision\n",
        "import torch.nn as nn\n",
        "from logger import Logger\n",
        "from torch import allclose\n",
        "from datetime import datetime\n",
        "import torch.nn.functional as tf \n",
        "\n",
        "from tqdm.notebook import tqdm\n",
        "import torchvision.transforms as T\n",
        "import torchvision.models as models\n",
        "from torch.utils.data import Dataset, DataLoader\n",
        "from torch.testing import assert_allclose\n",
        "from torchvision import datasets, transforms\n",
        "\n",
        "import kornia\n",
        "from kornia import augmentation as K\n",
        "import kornia.augmentation.functional as F\n",
        "import kornia.augmentation.random_generator as rg\n",
        "from torchvision.transforms import functional as tvF"
      ],
      "id": "suburban-shaft",
      "execution_count": null,
      "outputs": []
    },
    {
      "cell_type": "code",
      "metadata": {
        "execution": {
          "iopub.execute_input": "2021-08-28T17:27:19.376400Z",
          "iopub.status.busy": "2021-08-28T17:27:19.375201Z",
          "iopub.status.idle": "2021-08-28T17:27:19.378294Z",
          "shell.execute_reply": "2021-08-28T17:27:19.377834Z"
        },
        "papermill": {
          "duration": 0.021359,
          "end_time": "2021-08-28T17:27:19.378403",
          "exception": false,
          "start_time": "2021-08-28T17:27:19.357044",
          "status": "completed"
        },
        "tags": [],
        "id": "driving-multimedia"
      },
      "source": [
        "uid = 'byol'\n",
        "dataset_name = 'stl10'\n",
        "data_dir = 'dataset'\n",
        "ckpt_dir = \"./ckpt/\"+str(datetime.now().strftime('%m%d%H%M%S'))\n",
        "log_dir = \"runs/\"+str(datetime.now().strftime('%m%d%H%M%S'))\n",
        "\n",
        "if not os.path.exists(data_dir):\n",
        "    os.makedirs(data_dir)\n",
        "    \n",
        "if not os.path.exists(ckpt_dir):\n",
        "    os.makedirs(ckpt_dir)\n",
        "\n",
        "if not os.path.exists(log_dir):\n",
        "    os.makedirs(log_dir)"
      ],
      "id": "driving-multimedia",
      "execution_count": null,
      "outputs": []
    },
    {
      "cell_type": "code",
      "metadata": {
        "execution": {
          "iopub.execute_input": "2021-08-28T17:27:19.413396Z",
          "iopub.status.busy": "2021-08-28T17:27:19.412743Z",
          "iopub.status.idle": "2021-08-28T17:27:19.415681Z",
          "shell.execute_reply": "2021-08-28T17:27:19.415282Z"
        },
        "papermill": {
          "duration": 0.024945,
          "end_time": "2021-08-28T17:27:19.415796",
          "exception": false,
          "start_time": "2021-08-28T17:27:19.390851",
          "status": "completed"
        },
        "tags": [],
        "id": "mental-manhattan"
      },
      "source": [
        "# transformations\n",
        "\n",
        "_MEAN =  [0.5, 0.5, 0.5]\n",
        "_STD  =  [0.2, 0.2, 0.2]\n",
        "\n",
        "\n",
        "# _MEAN_ =  torch.FloatTensor([CIFAR_MEAN])\n",
        "# CIFAR_STD_  =  torch.FloatTensor([CIFAR_STD])\n",
        "\n",
        "class InitalTransformation():\n",
        "    def __init__(self):\n",
        "        self.transform = T.Compose([\n",
        "            T.ToTensor(),\n",
        "            transforms.Normalize(_MEAN,_STD),\n",
        "        ])\n",
        "\n",
        "    def __call__(self, x):\n",
        "        x = self.transform(x)\n",
        "        return  x\n",
        "\n",
        "\n",
        "def gpu_transformer(image_size,s=.2):\n",
        "        \n",
        "    train_transform = nn.Sequential(\n",
        "                \n",
        "                kornia.augmentation.RandomResizedCrop(image_size,scale=(0.5,1.0)),\n",
        "                kornia.augmentation.RandomHorizontalFlip(p=0.5),\n",
        "                kornia.augmentation.ColorJitter(0.8*s,0.8*s,0.8*s,0.2*s,p=0.3),\n",
        "                kornia.augmentation.RandomGrayscale(p=0.05),\n",
        "            )\n",
        "\n",
        "    test_transform = nn.Sequential(  \n",
        "                kornia.augmentation.RandomResizedCrop(image_size,scale=(0.5,1.0)),\n",
        "                kornia.augmentation.RandomHorizontalFlip(p=0.5),\n",
        "                kornia.augmentation.ColorJitter(0.8*s,0.8*s,0.8*s,0.2*s,p=0.3),\n",
        "                kornia.augmentation.RandomGrayscale(p=0.05),\n",
        "        )\n",
        "\n",
        "    return train_transform , test_transform\n",
        "                \n",
        "def get_clf_train_test_transform(image_size,s=.2):\n",
        "        \n",
        "    train_transform = nn.Sequential(\n",
        "                \n",
        "                kornia.augmentation.RandomResizedCrop(image_size,scale=(0.5,1.0)),\n",
        "                kornia.augmentation.RandomHorizontalFlip(p=0.5),\n",
        "#                 kornia.augmentation.Normalize(CIFAR_MEAN_,CIFAR_STD_),\n",
        "            )\n",
        "\n",
        "    test_transform = nn.Sequential(  \n",
        "                kornia.augmentation.RandomResizedCrop(image_size,scale=(0.5,1.0)),\n",
        "                kornia.augmentation.RandomHorizontalFlip(p=0.5),\n",
        "                # kornia.augmentation.RandomGrayscale(p=0.05),\n",
        "                # kornia.augmentation.Normalize(CIFAR_MEAN_,CIFAR_STD_)\n",
        "        )\n",
        "\n",
        "    return train_transform , test_transform"
      ],
      "id": "mental-manhattan",
      "execution_count": null,
      "outputs": []
    },
    {
      "cell_type": "markdown",
      "metadata": {
        "id": "P0ud81nNZ6Ai"
      },
      "source": [
        "#### The BYOL model is trained using the LARS optimizer.\n",
        "\n",
        "#### After training, only the encoder of the online network is kept and a classifier can be trained over that encoder."
      ],
      "id": "P0ud81nNZ6Ai"
    },
    {
      "cell_type": "code",
      "metadata": {
        "execution": {
          "iopub.execute_input": "2021-08-28T17:27:19.476465Z",
          "iopub.status.busy": "2021-08-28T17:27:19.475810Z",
          "iopub.status.idle": "2021-08-28T17:27:19.478720Z",
          "shell.execute_reply": "2021-08-28T17:27:19.478323Z"
        },
        "papermill": {
          "duration": 0.020519,
          "end_time": "2021-08-28T17:27:19.478823",
          "exception": false,
          "start_time": "2021-08-28T17:27:19.458304",
          "status": "completed"
        },
        "tags": [],
        "id": "million-broadway"
      },
      "source": [
        "def get_train_test_dataloaders(dataset = \"stl10\", data_dir=\"./dataset\", batch_size = 16,num_workers = 4, download=True): \n",
        "    \n",
        "    train_loader = torch.utils.data.DataLoader(\n",
        "        dataset = datasets.STL10(root=data_dir, split='unlabeled',transform=InitalTransformation(), download=download),\n",
        "        shuffle=True,\n",
        "        batch_size= batch_size,\n",
        "        num_workers = num_workers\n",
        "    )\n",
        "    \n",
        "\n",
        "    test_loader = torch.utils.data.DataLoader(\n",
        "        dataset = datasets.STL10(root=data_dir, split='test',transform=InitalTransformation(), download=download),\n",
        "        shuffle=True,\n",
        "        batch_size= batch_size,\n",
        "        num_workers = num_workers\n",
        "        )\n",
        "    return train_loader, test_loader"
      ],
      "id": "million-broadway",
      "execution_count": null,
      "outputs": []
    },
    {
      "cell_type": "code",
      "metadata": {
        "id": "rfUXUaNMa5Ht"
      },
      "source": [
        "class BYOL(nn.Module):\n",
        "    def __init__(self, backbone=None,base_target_ema=0.996,**kwargs):\n",
        "        super().__init__()\n",
        "        self.base_ema = base_target_ema\n",
        "        \n",
        "        if backbone is None:\n",
        "            backbone = models.resnet50(pretrained=False)\n",
        "            backbone.output_dim = backbone.fc.in_features\n",
        "            backbone.fc = torch.nn.Identity()\n",
        "\n",
        "#         encoder = torch.nn.Sequential(*list(backbone.children())[:-1])\n",
        "        projector = MLPHead(in_dim=backbone.output_dim)\n",
        "        \n",
        "        self.online_encoder = nn.Sequential(\n",
        "            backbone,\n",
        "            projector)\n",
        "        \n",
        "        self.target_encoder = copy.deepcopy(self.online_encoder)\n",
        "        self.online_predictor = MLPHead(in_dim=256,hidden_size=1024, projection_size=256)\n",
        "        \n",
        "            \n",
        "\n",
        "    @torch.no_grad()\n",
        "    def update_moving_average(self, global_step, max_steps):\n",
        "        \n",
        "        tau = 1- ((1 - self.base_ema)* (cos(pi*global_step/max_steps)+1)/2) \n",
        "        \n",
        "        for online, target in zip(self.online_encoder.parameters(), self.target_encoder.parameters()):\n",
        "            target.data = tau * target.data + (1 - tau) * online.data     \n",
        "    \n",
        "    def forward(self,x1,x2):\n",
        "        \n",
        "        z1 = self.online_encoder(x1)\n",
        "        z2 = self.online_encoder(x2)\n",
        "        \n",
        "        q1 = self.online_predictor(z1)\n",
        "        q2 = self.online_predictor(z2)\n",
        "        \n",
        "        with torch.no_grad():\n",
        "            z1_t = self.target_encoder(x1)\n",
        "            z2_t = self.target_encoder(x2)\n",
        "       \n",
        "        loss = loss_fn(q1, q2, z1_t, z2_t)\n",
        "        \n",
        "        return loss"
      ],
      "id": "rfUXUaNMa5Ht",
      "execution_count": null,
      "outputs": []
    },
    {
      "cell_type": "code",
      "metadata": {
        "execution": {
          "iopub.execute_input": "2021-08-28T17:27:19.518550Z",
          "iopub.status.busy": "2021-08-28T17:27:19.517852Z",
          "iopub.status.idle": "2021-08-28T17:27:19.520767Z",
          "shell.execute_reply": "2021-08-28T17:27:19.520362Z"
        },
        "papermill": {
          "duration": 0.029592,
          "end_time": "2021-08-28T17:27:19.520869",
          "exception": false,
          "start_time": "2021-08-28T17:27:19.491277",
          "status": "completed"
        },
        "tags": [],
        "id": "humanitarian-repeat"
      },
      "source": [
        "import copy\n",
        "from torch import nn\n",
        "import torchvision.models as models\n",
        "\n",
        "def loss_fn(q1,q2, z1t,z2t):\n",
        "    \n",
        "    l1 = - tf.cosine_similarity(q1, z1t.detach(), dim=-1).mean()\n",
        "    l2 = - tf.cosine_similarity(q2, z2t.detach(), dim=-1).mean()\n",
        "    \n",
        "    return (l1+l2)/2\n",
        "\n",
        "\n",
        "class MLPHead(nn.Module):\n",
        "    def __init__(self, in_dim, hidden_size=4096, projection_size=256):\n",
        "        super(MLPHead, self).__init__()\n",
        "        self.net = nn.Sequential(\n",
        "            nn.Linear(in_dim, hidden_size),\n",
        "            nn.BatchNorm1d(hidden_size),\n",
        "            nn.ReLU(inplace=True),\n",
        "            nn.Linear(hidden_size, projection_size)\n",
        "        )\n",
        "    def forward(self, x):\n",
        "        return self.net(x)\n",
        "    \n",
        "\n"
      ],
      "id": "humanitarian-repeat",
      "execution_count": null,
      "outputs": []
    },
    {
      "cell_type": "code",
      "metadata": {
        "execution": {
          "iopub.execute_input": "2021-08-28T17:27:19.594475Z",
          "iopub.status.busy": "2021-08-28T17:27:19.593829Z",
          "iopub.status.idle": "2021-08-28T17:27:19.597789Z",
          "shell.execute_reply": "2021-08-28T17:27:19.598402Z"
        },
        "papermill": {
          "duration": 0.065425,
          "end_time": "2021-08-28T17:27:19.598577",
          "exception": false,
          "start_time": "2021-08-28T17:27:19.533152",
          "status": "completed"
        },
        "tags": [],
        "id": "automatic-anchor",
        "outputId": "ed2f5c00-36fd-46ea-87b7-5819a3030e39"
      },
      "source": [
        "if torch.cuda.is_available():\n",
        "    dtype = torch.cuda.FloatTensor\n",
        "    device = torch.device(\"cuda\")\n",
        "    # torch.cuda.set_device(device_id)\n",
        "else:\n",
        "    dtype = torch.FloatTensor\n",
        "    device = torch.device(\"cpu\")\n",
        "    \n",
        "print(device)"
      ],
      "id": "automatic-anchor",
      "execution_count": null,
      "outputs": [
        {
          "name": "stdout",
          "output_type": "stream",
          "text": [
            "cuda\n"
          ]
        }
      ]
    },
    {
      "cell_type": "code",
      "metadata": {
        "execution": {
          "iopub.execute_input": "2021-08-28T17:27:19.632719Z",
          "iopub.status.busy": "2021-08-28T17:27:19.631962Z",
          "iopub.status.idle": "2021-08-28T17:27:19.644319Z",
          "shell.execute_reply": "2021-08-28T17:27:19.646307Z"
        },
        "papermill": {
          "duration": 0.034491,
          "end_time": "2021-08-28T17:27:19.646517",
          "exception": false,
          "start_time": "2021-08-28T17:27:19.612026",
          "status": "completed"
        },
        "tags": [],
        "id": "perfect-mission"
      },
      "source": [
        "weight_decay = 1.5e-6\n",
        "warmup_epochs =  10\n",
        "warmup_lr = 0\n",
        "momentum = 0.9\n",
        "lr =  0.002\n",
        "final_lr =  0\n",
        "epochs = 50\n",
        "stop_at_epoch = 100\n",
        "batch_size = 256\n",
        "knn_monitor = False\n",
        "knn_interval = 5\n",
        "knn_k = 200\n",
        "image_size = (92,92)"
      ],
      "id": "perfect-mission",
      "execution_count": null,
      "outputs": []
    },
    {
      "cell_type": "code",
      "metadata": {
        "execution": {
          "iopub.execute_input": "2021-08-28T17:27:19.701161Z",
          "iopub.status.busy": "2021-08-28T17:27:19.700320Z",
          "iopub.status.idle": "2021-08-28T17:28:49.846451Z",
          "shell.execute_reply": "2021-08-28T17:28:49.846908Z"
        },
        "papermill": {
          "duration": 90.180638,
          "end_time": "2021-08-28T17:28:49.847064",
          "exception": false,
          "start_time": "2021-08-28T17:27:19.666426",
          "status": "completed"
        },
        "tags": [],
        "colab": {
          "referenced_widgets": [
            "c7adc5d36fcd4a3dacf2025da5311880"
          ]
        },
        "id": "finnish-original",
        "outputId": "6b188c6e-8de8-4b9c-e2a8-4242be57d56c"
      },
      "source": [
        "train_loader, test_loader = get_train_test_dataloaders(batch_size=batch_size)\n",
        "train_transform,test_transform = gpu_transformer(image_size)"
      ],
      "id": "finnish-original",
      "execution_count": null,
      "outputs": [
        {
          "name": "stdout",
          "output_type": "stream",
          "text": [
            "Downloading http://ai.stanford.edu/~acoates/stl10/stl10_binary.tar.gz to ./dataset/stl10_binary.tar.gz\n"
          ]
        },
        {
          "data": {
            "application/vnd.jupyter.widget-view+json": {
              "model_id": "c7adc5d36fcd4a3dacf2025da5311880",
              "version_major": 2,
              "version_minor": 0
            },
            "text/plain": [
              "0it [00:00, ?it/s]"
            ]
          },
          "metadata": {},
          "output_type": "display_data"
        },
        {
          "name": "stdout",
          "output_type": "stream",
          "text": [
            "Extracting ./dataset/stl10_binary.tar.gz to ./dataset\n",
            "Files already downloaded and verified\n"
          ]
        }
      ]
    },
    {
      "cell_type": "code",
      "metadata": {
        "execution": {
          "iopub.execute_input": "2021-08-28T17:28:49.880310Z",
          "iopub.status.busy": "2021-08-28T17:28:49.879791Z",
          "iopub.status.idle": "2021-08-28T17:28:54.867295Z",
          "shell.execute_reply": "2021-08-28T17:28:54.866160Z"
        },
        "papermill": {
          "duration": 5.006497,
          "end_time": "2021-08-28T17:28:54.867452",
          "exception": false,
          "start_time": "2021-08-28T17:28:49.860955",
          "status": "completed"
        },
        "tags": [],
        "id": "olympic-seeker"
      },
      "source": [
        "\n",
        "from lr_scheduler import LR_Scheduler\n",
        "from lars import LARS\n",
        "\n",
        "loss_ls = []\n",
        "acc_ls = []\n",
        "\n",
        "model = BYOL().to(device)\n",
        "\n",
        "\n",
        "optimizer = LARS(model.named_modules(), lr=lr, momentum=momentum, weight_decay=weight_decay)\n",
        "\n",
        "        \n",
        "scheduler = LR_Scheduler(\n",
        "        optimizer, warmup_epochs, warmup_lr*batch_size/8,\n",
        "\n",
        "        epochs, lr*batch_size/8, final_lr*batch_size/8, \n",
        "        len(train_loader),\n",
        "        constant_predictor_lr=True \n",
        "        )"
      ],
      "id": "olympic-seeker",
      "execution_count": null,
      "outputs": []
    },
    {
      "cell_type": "code",
      "metadata": {
        "execution": {
          "iopub.execute_input": "2021-08-28T17:29:01.554977Z",
          "iopub.status.busy": "2021-08-28T17:29:01.554308Z",
          "iopub.status.idle": "2021-08-28T23:16:57.996546Z",
          "shell.execute_reply": "2021-08-28T23:16:57.996948Z"
        },
        "papermill": {
          "duration": 20883.114627,
          "end_time": "2021-08-28T23:16:57.997119",
          "exception": false,
          "start_time": "2021-08-28T17:28:54.882492",
          "status": "completed"
        },
        "tags": [],
        "colab": {
          "referenced_widgets": [
            "97eb627093fa40a7842b17cd60f00cfd",
            "9f3134a8ce394d7594f5f74433df7b59",
            "004ae50a557745c78c6ca948ead794ee",
            "e3fb15947d554fcba0e2575de90461a5",
            "bae3f1a8a1c24a3792e8dfda14744a32",
            "c3a4949af36443dfa872b32020e4d5ca",
            "0063c2520860406f8f0af956d700742c",
            "4960640460de4f5ba1000afe856b5696",
            "75b838e5917a467abc880a6deb05a2a3",
            "4162e3444b5e4afdb36775720a783aaa",
            "d244b822fcc943d09d8942e90f38b19d",
            "137a395ada6c41ddafd7485e79e4ca12",
            "0b19e53735c9469385af37a63b12780c",
            "8c0b3feed0614d3fa339bed15f746db7",
            "5fe6bfebac8245c796a26a74ad991905",
            "0c9da17564d948609bfc4b6faa8dc075",
            "7281146ad5854988a7b42775488ca960",
            "e05faac11a4a4e7ab923941b89d15eb0",
            "cc406a74860845acae415d168756ec8a",
            "aa116920d0654d849216125fb3552cd7",
            "f24ef12265fb4b1fb950201c9cb01c9c",
            "dd3fb4f17f344ab0b7b6550d61277c7b",
            "b5e41682ac944dd09f06b4e00893615d",
            "cf9b863e1b1d45b4918ef13ca6b00928",
            "6caadd887aea4d489719dd352833eaa3",
            "d46099bfa4324337a1c34b1e0e6e4b2b",
            "979e7fb6c35e4b8a8484b06e4cbba0e6",
            "b5b86b7c17ad455d9320f569d6a7368f",
            "60656473bfed4ef6a655293f373f3d33",
            "08ba2209288c4a15a9871f45060ec57f",
            "ef5e152f67364c619962e7f115cb4b76",
            "2deb078b643f41fca480560ef6492e44",
            "d22791b46d504e4bbbd3fb335c2f6936",
            "4dd630ac62db42999cbccdfa104e5cd5",
            "feaa8b8f7b234c92976b91544209ae4b",
            "6755bddcec20481d81fc34b05605e9e7",
            "9bfedbbf150b495ea4af28e4df19f215",
            "19ea1c25017a47abb87a098052fb2e4a",
            "74948d3328104b0e8e159ae855435881",
            "cee1ea8d3ee84ba0b2b66004048f98bd",
            "2a101c8824864b2baa04c71db931bafd",
            "7282b005839646679cde4122c3fb85a6",
            "f50eceaf94e146f49209d7ab9c0959dd",
            "f2002f561d7f46199b3b4fe9ebbceb27",
            "6555337333894ac6beaf720ae3708113",
            "89d4584a744a400bb344a649196b3023",
            "30d76410397b433e8028780fea844d42",
            "4f968b4b59b742e4b90d39809f25fc32",
            "a9e57c4186c748c4b65e9bcd467042b6",
            "a0d632316c0c4f50bb0036bfd0b9874f",
            "4e1cd5b2f97f440e9026af313d510d76"
          ]
        },
        "id": "suspected-beginning",
        "outputId": "7e5747e2-fc6a-4285-a2bf-2a83d58909f1"
      },
      "source": [
        "min_loss = np.inf \n",
        "accuracy = 0\n",
        "\n",
        "\n",
        "# start training \n",
        "logger = Logger(log_dir=log_dir, tensorboard=True, matplotlib=True)\n",
        "global_progress = tqdm(range(0, epochs), desc=f'Training')\n",
        "data_dict = {\"loss\": 100}\n",
        "\n",
        "for epoch in global_progress:\n",
        "    model.train()   \n",
        "    local_progress = tqdm(train_loader, desc=f'Epoch {epoch}/{epochs}')\n",
        "    \n",
        "    for idx, (image, label) in enumerate(local_progress):\n",
        "        image = image.to(device)\n",
        "        aug_image = train_transform(image)\n",
        " \n",
        "        model.zero_grad()\n",
        "        loss = model.forward(image.to(device, non_blocking=True), aug_image.to(device, non_blocking=True))\n",
        "\n",
        "        loss_scaler = loss.item()\n",
        "        data_dict['loss'] = loss_scaler\n",
        "        loss_ls.append(loss_scaler)\n",
        "        loss.backward()\n",
        "        \n",
        "        optimizer.step()\n",
        "        model.update_moving_average(epoch, epochs)\n",
        "        \n",
        "        scheduler.step()\n",
        "        \n",
        "        data_dict.update({'lr': scheduler.get_last_lr()})\n",
        "        local_progress.set_postfix(data_dict)\n",
        "        logger.update_scalers(data_dict)\n",
        "    \n",
        "    current_loss = data_dict['loss']\n",
        "    \n",
        "    global_progress.set_postfix(data_dict)\n",
        "    logger.update_scalers(data_dict)\n",
        "    \n",
        "    model_path = os.path.join(ckpt_dir, f\"{uid}_{datetime.now().strftime('%m%d%H%M%S')}.pth\")\n",
        "\n",
        "    if min_loss > current_loss:\n",
        "        min_loss = current_loss\n",
        "        \n",
        "        torch.save({\n",
        "        'epoch':epoch+1,\n",
        "        'online_network': model.online_encoder.state_dict(),\n",
        "        'target_network': model.target_encoder.state_dict()}, model_path)\n",
        "        print(f'Model saved at: {model_path}')"
      ],
      "id": "suspected-beginning",
      "execution_count": null,
      "outputs": [
        {
          "data": {
            "application/vnd.jupyter.widget-view+json": {
              "model_id": "97eb627093fa40a7842b17cd60f00cfd",
              "version_major": 2,
              "version_minor": 0
            },
            "text/plain": [
              "Training:   0%|          | 0/50 [00:00<?, ?it/s]"
            ]
          },
          "metadata": {},
          "output_type": "display_data"
        },
        {
          "data": {
            "application/vnd.jupyter.widget-view+json": {
              "model_id": "9f3134a8ce394d7594f5f74433df7b59",
              "version_major": 2,
              "version_minor": 0
            },
            "text/plain": [
              "Epoch 0/50:   0%|          | 0/391 [00:00<?, ?it/s]"
            ]
          },
          "metadata": {},
          "output_type": "display_data"
        },
        {
          "name": "stdout",
          "output_type": "stream",
          "text": [
            "Model saved at: ./ckpt/0828172719/byol_0828173557.pth\n"
          ]
        },
        {
          "data": {
            "application/vnd.jupyter.widget-view+json": {
              "model_id": "004ae50a557745c78c6ca948ead794ee",
              "version_major": 2,
              "version_minor": 0
            },
            "text/plain": [
              "Epoch 1/50:   0%|          | 0/391 [00:00<?, ?it/s]"
            ]
          },
          "metadata": {},
          "output_type": "display_data"
        },
        {
          "name": "stdout",
          "output_type": "stream",
          "text": [
            "Model saved at: ./ckpt/0828172719/byol_0828174250.pth\n"
          ]
        },
        {
          "data": {
            "application/vnd.jupyter.widget-view+json": {
              "model_id": "e3fb15947d554fcba0e2575de90461a5",
              "version_major": 2,
              "version_minor": 0
            },
            "text/plain": [
              "Epoch 2/50:   0%|          | 0/391 [00:00<?, ?it/s]"
            ]
          },
          "metadata": {},
          "output_type": "display_data"
        },
        {
          "name": "stdout",
          "output_type": "stream",
          "text": [
            "Model saved at: ./ckpt/0828172719/byol_0828174939.pth\n"
          ]
        },
        {
          "data": {
            "application/vnd.jupyter.widget-view+json": {
              "model_id": "bae3f1a8a1c24a3792e8dfda14744a32",
              "version_major": 2,
              "version_minor": 0
            },
            "text/plain": [
              "Epoch 3/50:   0%|          | 0/391 [00:00<?, ?it/s]"
            ]
          },
          "metadata": {},
          "output_type": "display_data"
        },
        {
          "name": "stdout",
          "output_type": "stream",
          "text": [
            "Model saved at: ./ckpt/0828172719/byol_0828175636.pth\n"
          ]
        },
        {
          "data": {
            "application/vnd.jupyter.widget-view+json": {
              "model_id": "c3a4949af36443dfa872b32020e4d5ca",
              "version_major": 2,
              "version_minor": 0
            },
            "text/plain": [
              "Epoch 4/50:   0%|          | 0/391 [00:00<?, ?it/s]"
            ]
          },
          "metadata": {},
          "output_type": "display_data"
        },
        {
          "name": "stdout",
          "output_type": "stream",
          "text": [
            "Model saved at: ./ckpt/0828172719/byol_0828180334.pth\n"
          ]
        },
        {
          "data": {
            "application/vnd.jupyter.widget-view+json": {
              "model_id": "0063c2520860406f8f0af956d700742c",
              "version_major": 2,
              "version_minor": 0
            },
            "text/plain": [
              "Epoch 5/50:   0%|          | 0/391 [00:00<?, ?it/s]"
            ]
          },
          "metadata": {},
          "output_type": "display_data"
        },
        {
          "name": "stdout",
          "output_type": "stream",
          "text": [
            "Model saved at: ./ckpt/0828172719/byol_0828181024.pth\n"
          ]
        },
        {
          "data": {
            "application/vnd.jupyter.widget-view+json": {
              "model_id": "4960640460de4f5ba1000afe856b5696",
              "version_major": 2,
              "version_minor": 0
            },
            "text/plain": [
              "Epoch 6/50:   0%|          | 0/391 [00:00<?, ?it/s]"
            ]
          },
          "metadata": {},
          "output_type": "display_data"
        },
        {
          "name": "stdout",
          "output_type": "stream",
          "text": [
            "Model saved at: ./ckpt/0828172719/byol_0828181718.pth\n"
          ]
        },
        {
          "data": {
            "application/vnd.jupyter.widget-view+json": {
              "model_id": "75b838e5917a467abc880a6deb05a2a3",
              "version_major": 2,
              "version_minor": 0
            },
            "text/plain": [
              "Epoch 7/50:   0%|          | 0/391 [00:00<?, ?it/s]"
            ]
          },
          "metadata": {},
          "output_type": "display_data"
        },
        {
          "name": "stdout",
          "output_type": "stream",
          "text": [
            "Model saved at: ./ckpt/0828172719/byol_0828182410.pth\n"
          ]
        },
        {
          "data": {
            "application/vnd.jupyter.widget-view+json": {
              "model_id": "4162e3444b5e4afdb36775720a783aaa",
              "version_major": 2,
              "version_minor": 0
            },
            "text/plain": [
              "Epoch 8/50:   0%|          | 0/391 [00:00<?, ?it/s]"
            ]
          },
          "metadata": {},
          "output_type": "display_data"
        },
        {
          "name": "stdout",
          "output_type": "stream",
          "text": [
            "Model saved at: ./ckpt/0828172719/byol_0828183105.pth\n"
          ]
        },
        {
          "data": {
            "application/vnd.jupyter.widget-view+json": {
              "model_id": "d244b822fcc943d09d8942e90f38b19d",
              "version_major": 2,
              "version_minor": 0
            },
            "text/plain": [
              "Epoch 9/50:   0%|          | 0/391 [00:00<?, ?it/s]"
            ]
          },
          "metadata": {},
          "output_type": "display_data"
        },
        {
          "name": "stdout",
          "output_type": "stream",
          "text": [
            "Model saved at: ./ckpt/0828172719/byol_0828183803.pth\n"
          ]
        },
        {
          "data": {
            "application/vnd.jupyter.widget-view+json": {
              "model_id": "137a395ada6c41ddafd7485e79e4ca12",
              "version_major": 2,
              "version_minor": 0
            },
            "text/plain": [
              "Epoch 10/50:   0%|          | 0/391 [00:00<?, ?it/s]"
            ]
          },
          "metadata": {},
          "output_type": "display_data"
        },
        {
          "data": {
            "application/vnd.jupyter.widget-view+json": {
              "model_id": "0b19e53735c9469385af37a63b12780c",
              "version_major": 2,
              "version_minor": 0
            },
            "text/plain": [
              "Epoch 11/50:   0%|          | 0/391 [00:00<?, ?it/s]"
            ]
          },
          "metadata": {},
          "output_type": "display_data"
        },
        {
          "name": "stdout",
          "output_type": "stream",
          "text": [
            "Model saved at: ./ckpt/0828172719/byol_0828185149.pth\n"
          ]
        },
        {
          "data": {
            "application/vnd.jupyter.widget-view+json": {
              "model_id": "8c0b3feed0614d3fa339bed15f746db7",
              "version_major": 2,
              "version_minor": 0
            },
            "text/plain": [
              "Epoch 12/50:   0%|          | 0/391 [00:00<?, ?it/s]"
            ]
          },
          "metadata": {},
          "output_type": "display_data"
        },
        {
          "name": "stdout",
          "output_type": "stream",
          "text": [
            "Model saved at: ./ckpt/0828172719/byol_0828185841.pth\n"
          ]
        },
        {
          "data": {
            "application/vnd.jupyter.widget-view+json": {
              "model_id": "5fe6bfebac8245c796a26a74ad991905",
              "version_major": 2,
              "version_minor": 0
            },
            "text/plain": [
              "Epoch 13/50:   0%|          | 0/391 [00:00<?, ?it/s]"
            ]
          },
          "metadata": {},
          "output_type": "display_data"
        },
        {
          "name": "stdout",
          "output_type": "stream",
          "text": [
            "Model saved at: ./ckpt/0828172719/byol_0828190535.pth\n"
          ]
        },
        {
          "data": {
            "application/vnd.jupyter.widget-view+json": {
              "model_id": "0c9da17564d948609bfc4b6faa8dc075",
              "version_major": 2,
              "version_minor": 0
            },
            "text/plain": [
              "Epoch 14/50:   0%|          | 0/391 [00:00<?, ?it/s]"
            ]
          },
          "metadata": {},
          "output_type": "display_data"
        },
        {
          "data": {
            "application/vnd.jupyter.widget-view+json": {
              "model_id": "7281146ad5854988a7b42775488ca960",
              "version_major": 2,
              "version_minor": 0
            },
            "text/plain": [
              "Epoch 15/50:   0%|          | 0/391 [00:00<?, ?it/s]"
            ]
          },
          "metadata": {},
          "output_type": "display_data"
        },
        {
          "name": "stdout",
          "output_type": "stream",
          "text": [
            "Model saved at: ./ckpt/0828172719/byol_0828191928.pth\n"
          ]
        },
        {
          "data": {
            "application/vnd.jupyter.widget-view+json": {
              "model_id": "e05faac11a4a4e7ab923941b89d15eb0",
              "version_major": 2,
              "version_minor": 0
            },
            "text/plain": [
              "Epoch 16/50:   0%|          | 0/391 [00:00<?, ?it/s]"
            ]
          },
          "metadata": {},
          "output_type": "display_data"
        },
        {
          "data": {
            "application/vnd.jupyter.widget-view+json": {
              "model_id": "cc406a74860845acae415d168756ec8a",
              "version_major": 2,
              "version_minor": 0
            },
            "text/plain": [
              "Epoch 17/50:   0%|          | 0/391 [00:00<?, ?it/s]"
            ]
          },
          "metadata": {},
          "output_type": "display_data"
        },
        {
          "data": {
            "application/vnd.jupyter.widget-view+json": {
              "model_id": "aa116920d0654d849216125fb3552cd7",
              "version_major": 2,
              "version_minor": 0
            },
            "text/plain": [
              "Epoch 18/50:   0%|          | 0/391 [00:00<?, ?it/s]"
            ]
          },
          "metadata": {},
          "output_type": "display_data"
        },
        {
          "data": {
            "application/vnd.jupyter.widget-view+json": {
              "model_id": "f24ef12265fb4b1fb950201c9cb01c9c",
              "version_major": 2,
              "version_minor": 0
            },
            "text/plain": [
              "Epoch 19/50:   0%|          | 0/391 [00:00<?, ?it/s]"
            ]
          },
          "metadata": {},
          "output_type": "display_data"
        },
        {
          "name": "stdout",
          "output_type": "stream",
          "text": [
            "Model saved at: ./ckpt/0828172719/byol_0828194726.pth\n"
          ]
        },
        {
          "data": {
            "application/vnd.jupyter.widget-view+json": {
              "model_id": "dd3fb4f17f344ab0b7b6550d61277c7b",
              "version_major": 2,
              "version_minor": 0
            },
            "text/plain": [
              "Epoch 20/50:   0%|          | 0/391 [00:00<?, ?it/s]"
            ]
          },
          "metadata": {},
          "output_type": "display_data"
        },
        {
          "data": {
            "application/vnd.jupyter.widget-view+json": {
              "model_id": "b5e41682ac944dd09f06b4e00893615d",
              "version_major": 2,
              "version_minor": 0
            },
            "text/plain": [
              "Epoch 21/50:   0%|          | 0/391 [00:00<?, ?it/s]"
            ]
          },
          "metadata": {},
          "output_type": "display_data"
        },
        {
          "data": {
            "application/vnd.jupyter.widget-view+json": {
              "model_id": "cf9b863e1b1d45b4918ef13ca6b00928",
              "version_major": 2,
              "version_minor": 0
            },
            "text/plain": [
              "Epoch 22/50:   0%|          | 0/391 [00:00<?, ?it/s]"
            ]
          },
          "metadata": {},
          "output_type": "display_data"
        },
        {
          "name": "stdout",
          "output_type": "stream",
          "text": [
            "Model saved at: ./ckpt/0828172719/byol_0828200810.pth\n"
          ]
        },
        {
          "data": {
            "application/vnd.jupyter.widget-view+json": {
              "model_id": "6caadd887aea4d489719dd352833eaa3",
              "version_major": 2,
              "version_minor": 0
            },
            "text/plain": [
              "Epoch 23/50:   0%|          | 0/391 [00:00<?, ?it/s]"
            ]
          },
          "metadata": {},
          "output_type": "display_data"
        },
        {
          "data": {
            "application/vnd.jupyter.widget-view+json": {
              "model_id": "d46099bfa4324337a1c34b1e0e6e4b2b",
              "version_major": 2,
              "version_minor": 0
            },
            "text/plain": [
              "Epoch 24/50:   0%|          | 0/391 [00:00<?, ?it/s]"
            ]
          },
          "metadata": {},
          "output_type": "display_data"
        },
        {
          "name": "stdout",
          "output_type": "stream",
          "text": [
            "Model saved at: ./ckpt/0828172719/byol_0828202155.pth\n"
          ]
        },
        {
          "data": {
            "application/vnd.jupyter.widget-view+json": {
              "model_id": "979e7fb6c35e4b8a8484b06e4cbba0e6",
              "version_major": 2,
              "version_minor": 0
            },
            "text/plain": [
              "Epoch 25/50:   0%|          | 0/391 [00:00<?, ?it/s]"
            ]
          },
          "metadata": {},
          "output_type": "display_data"
        },
        {
          "name": "stdout",
          "output_type": "stream",
          "text": [
            "Model saved at: ./ckpt/0828172719/byol_0828202850.pth\n"
          ]
        },
        {
          "data": {
            "application/vnd.jupyter.widget-view+json": {
              "model_id": "b5b86b7c17ad455d9320f569d6a7368f",
              "version_major": 2,
              "version_minor": 0
            },
            "text/plain": [
              "Epoch 26/50:   0%|          | 0/391 [00:00<?, ?it/s]"
            ]
          },
          "metadata": {},
          "output_type": "display_data"
        },
        {
          "data": {
            "application/vnd.jupyter.widget-view+json": {
              "model_id": "60656473bfed4ef6a655293f373f3d33",
              "version_major": 2,
              "version_minor": 0
            },
            "text/plain": [
              "Epoch 27/50:   0%|          | 0/391 [00:00<?, ?it/s]"
            ]
          },
          "metadata": {},
          "output_type": "display_data"
        },
        {
          "data": {
            "application/vnd.jupyter.widget-view+json": {
              "model_id": "08ba2209288c4a15a9871f45060ec57f",
              "version_major": 2,
              "version_minor": 0
            },
            "text/plain": [
              "Epoch 28/50:   0%|          | 0/391 [00:00<?, ?it/s]"
            ]
          },
          "metadata": {},
          "output_type": "display_data"
        },
        {
          "data": {
            "application/vnd.jupyter.widget-view+json": {
              "model_id": "ef5e152f67364c619962e7f115cb4b76",
              "version_major": 2,
              "version_minor": 0
            },
            "text/plain": [
              "Epoch 29/50:   0%|          | 0/391 [00:00<?, ?it/s]"
            ]
          },
          "metadata": {},
          "output_type": "display_data"
        },
        {
          "data": {
            "application/vnd.jupyter.widget-view+json": {
              "model_id": "2deb078b643f41fca480560ef6492e44",
              "version_major": 2,
              "version_minor": 0
            },
            "text/plain": [
              "Epoch 30/50:   0%|          | 0/391 [00:00<?, ?it/s]"
            ]
          },
          "metadata": {},
          "output_type": "display_data"
        },
        {
          "data": {
            "application/vnd.jupyter.widget-view+json": {
              "model_id": "d22791b46d504e4bbbd3fb335c2f6936",
              "version_major": 2,
              "version_minor": 0
            },
            "text/plain": [
              "Epoch 31/50:   0%|          | 0/391 [00:00<?, ?it/s]"
            ]
          },
          "metadata": {},
          "output_type": "display_data"
        },
        {
          "data": {
            "application/vnd.jupyter.widget-view+json": {
              "model_id": "4dd630ac62db42999cbccdfa104e5cd5",
              "version_major": 2,
              "version_minor": 0
            },
            "text/plain": [
              "Epoch 32/50:   0%|          | 0/391 [00:00<?, ?it/s]"
            ]
          },
          "metadata": {},
          "output_type": "display_data"
        },
        {
          "data": {
            "application/vnd.jupyter.widget-view+json": {
              "model_id": "feaa8b8f7b234c92976b91544209ae4b",
              "version_major": 2,
              "version_minor": 0
            },
            "text/plain": [
              "Epoch 33/50:   0%|          | 0/391 [00:00<?, ?it/s]"
            ]
          },
          "metadata": {},
          "output_type": "display_data"
        },
        {
          "data": {
            "application/vnd.jupyter.widget-view+json": {
              "model_id": "6755bddcec20481d81fc34b05605e9e7",
              "version_major": 2,
              "version_minor": 0
            },
            "text/plain": [
              "Epoch 34/50:   0%|          | 0/391 [00:00<?, ?it/s]"
            ]
          },
          "metadata": {},
          "output_type": "display_data"
        },
        {
          "data": {
            "application/vnd.jupyter.widget-view+json": {
              "model_id": "9bfedbbf150b495ea4af28e4df19f215",
              "version_major": 2,
              "version_minor": 0
            },
            "text/plain": [
              "Epoch 35/50:   0%|          | 0/391 [00:00<?, ?it/s]"
            ]
          },
          "metadata": {},
          "output_type": "display_data"
        },
        {
          "data": {
            "application/vnd.jupyter.widget-view+json": {
              "model_id": "19ea1c25017a47abb87a098052fb2e4a",
              "version_major": 2,
              "version_minor": 0
            },
            "text/plain": [
              "Epoch 36/50:   0%|          | 0/391 [00:00<?, ?it/s]"
            ]
          },
          "metadata": {},
          "output_type": "display_data"
        },
        {
          "data": {
            "application/vnd.jupyter.widget-view+json": {
              "model_id": "74948d3328104b0e8e159ae855435881",
              "version_major": 2,
              "version_minor": 0
            },
            "text/plain": [
              "Epoch 37/50:   0%|          | 0/391 [00:00<?, ?it/s]"
            ]
          },
          "metadata": {},
          "output_type": "display_data"
        },
        {
          "data": {
            "application/vnd.jupyter.widget-view+json": {
              "model_id": "cee1ea8d3ee84ba0b2b66004048f98bd",
              "version_major": 2,
              "version_minor": 0
            },
            "text/plain": [
              "Epoch 38/50:   0%|          | 0/391 [00:00<?, ?it/s]"
            ]
          },
          "metadata": {},
          "output_type": "display_data"
        },
        {
          "data": {
            "application/vnd.jupyter.widget-view+json": {
              "model_id": "2a101c8824864b2baa04c71db931bafd",
              "version_major": 2,
              "version_minor": 0
            },
            "text/plain": [
              "Epoch 39/50:   0%|          | 0/391 [00:00<?, ?it/s]"
            ]
          },
          "metadata": {},
          "output_type": "display_data"
        },
        {
          "data": {
            "application/vnd.jupyter.widget-view+json": {
              "model_id": "7282b005839646679cde4122c3fb85a6",
              "version_major": 2,
              "version_minor": 0
            },
            "text/plain": [
              "Epoch 40/50:   0%|          | 0/391 [00:00<?, ?it/s]"
            ]
          },
          "metadata": {},
          "output_type": "display_data"
        },
        {
          "data": {
            "application/vnd.jupyter.widget-view+json": {
              "model_id": "f50eceaf94e146f49209d7ab9c0959dd",
              "version_major": 2,
              "version_minor": 0
            },
            "text/plain": [
              "Epoch 41/50:   0%|          | 0/391 [00:00<?, ?it/s]"
            ]
          },
          "metadata": {},
          "output_type": "display_data"
        },
        {
          "data": {
            "application/vnd.jupyter.widget-view+json": {
              "model_id": "f2002f561d7f46199b3b4fe9ebbceb27",
              "version_major": 2,
              "version_minor": 0
            },
            "text/plain": [
              "Epoch 42/50:   0%|          | 0/391 [00:00<?, ?it/s]"
            ]
          },
          "metadata": {},
          "output_type": "display_data"
        },
        {
          "name": "stdout",
          "output_type": "stream",
          "text": [
            "Model saved at: ./ckpt/0828172719/byol_0828222734.pth\n"
          ]
        },
        {
          "data": {
            "application/vnd.jupyter.widget-view+json": {
              "model_id": "6555337333894ac6beaf720ae3708113",
              "version_major": 2,
              "version_minor": 0
            },
            "text/plain": [
              "Epoch 43/50:   0%|          | 0/391 [00:00<?, ?it/s]"
            ]
          },
          "metadata": {},
          "output_type": "display_data"
        },
        {
          "data": {
            "application/vnd.jupyter.widget-view+json": {
              "model_id": "89d4584a744a400bb344a649196b3023",
              "version_major": 2,
              "version_minor": 0
            },
            "text/plain": [
              "Epoch 44/50:   0%|          | 0/391 [00:00<?, ?it/s]"
            ]
          },
          "metadata": {},
          "output_type": "display_data"
        },
        {
          "data": {
            "application/vnd.jupyter.widget-view+json": {
              "model_id": "30d76410397b433e8028780fea844d42",
              "version_major": 2,
              "version_minor": 0
            },
            "text/plain": [
              "Epoch 45/50:   0%|          | 0/391 [00:00<?, ?it/s]"
            ]
          },
          "metadata": {},
          "output_type": "display_data"
        },
        {
          "data": {
            "application/vnd.jupyter.widget-view+json": {
              "model_id": "4f968b4b59b742e4b90d39809f25fc32",
              "version_major": 2,
              "version_minor": 0
            },
            "text/plain": [
              "Epoch 46/50:   0%|          | 0/391 [00:00<?, ?it/s]"
            ]
          },
          "metadata": {},
          "output_type": "display_data"
        },
        {
          "data": {
            "application/vnd.jupyter.widget-view+json": {
              "model_id": "a9e57c4186c748c4b65e9bcd467042b6",
              "version_major": 2,
              "version_minor": 0
            },
            "text/plain": [
              "Epoch 47/50:   0%|          | 0/391 [00:00<?, ?it/s]"
            ]
          },
          "metadata": {},
          "output_type": "display_data"
        },
        {
          "data": {
            "application/vnd.jupyter.widget-view+json": {
              "model_id": "a0d632316c0c4f50bb0036bfd0b9874f",
              "version_major": 2,
              "version_minor": 0
            },
            "text/plain": [
              "Epoch 48/50:   0%|          | 0/391 [00:00<?, ?it/s]"
            ]
          },
          "metadata": {},
          "output_type": "display_data"
        },
        {
          "data": {
            "application/vnd.jupyter.widget-view+json": {
              "model_id": "4e1cd5b2f97f440e9026af313d510d76",
              "version_major": 2,
              "version_minor": 0
            },
            "text/plain": [
              "Epoch 49/50:   0%|          | 0/391 [00:00<?, ?it/s]"
            ]
          },
          "metadata": {},
          "output_type": "display_data"
        }
      ]
    },
    {
      "cell_type": "code",
      "metadata": {
        "execution": {
          "iopub.execute_input": "2021-08-28T23:16:58.099186Z",
          "iopub.status.busy": "2021-08-28T23:16:58.098701Z",
          "iopub.status.idle": "2021-08-28T23:16:58.148425Z",
          "shell.execute_reply": "2021-08-28T23:16:58.147418Z"
        },
        "papermill": {
          "duration": 0.113045,
          "end_time": "2021-08-28T23:16:58.148544",
          "exception": false,
          "start_time": "2021-08-28T23:16:58.035499",
          "status": "completed"
        },
        "tags": [],
        "id": "catholic-forward"
      },
      "source": [
        "from matplotlib import pyplot as plt\n",
        "plt.figure(111)\n",
        "plt.plot(loss_ls)\n",
        "plt.ylabel('loss')\n",
        "plt.show()"
      ],
      "id": "catholic-forward",
      "execution_count": null,
      "outputs": []
    },
    {
      "cell_type": "code",
      "metadata": {
        "papermill": {
          "duration": 0.037704,
          "end_time": "2021-08-28T23:16:58.224381",
          "exception": false,
          "start_time": "2021-08-28T23:16:58.186677",
          "status": "completed"
        },
        "tags": [],
        "id": "hispanic-pregnancy"
      },
      "source": [
        ""
      ],
      "id": "hispanic-pregnancy",
      "execution_count": null,
      "outputs": []
    },
    {
      "cell_type": "code",
      "metadata": {
        "papermill": {
          "duration": 0.037536,
          "end_time": "2021-08-28T23:16:58.299708",
          "exception": false,
          "start_time": "2021-08-28T23:16:58.262172",
          "status": "completed"
        },
        "tags": [],
        "id": "noble-girlfriend"
      },
      "source": [
        ""
      ],
      "id": "noble-girlfriend",
      "execution_count": null,
      "outputs": []
    },
    {
      "cell_type": "code",
      "metadata": {
        "papermill": {
          "duration": 0.037634,
          "end_time": "2021-08-28T23:16:58.375106",
          "exception": false,
          "start_time": "2021-08-28T23:16:58.337472",
          "status": "completed"
        },
        "tags": [],
        "id": "talented-empire"
      },
      "source": [
        ""
      ],
      "id": "talented-empire",
      "execution_count": null,
      "outputs": []
    }
  ]
}